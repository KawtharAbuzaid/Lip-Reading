{
  "nbformat": 4,
  "nbformat_minor": 0,
  "metadata": {
    "colab": {
      "provenance": [],
      "gpuType": "T4"
    },
    "kernelspec": {
      "name": "python3",
      "display_name": "Python 3"
    },
    "language_info": {
      "name": "python"
    },
    "accelerator": "GPU"
  },
  "cells": [
    {
      "cell_type": "markdown",
      "source": [
        "## Another way"
      ],
      "metadata": {
        "id": "4uUVgjdOwzgh"
      }
    },
    {
      "cell_type": "code",
      "source": [
        "import zipfile\n",
        "import os\n",
        "\n",
        "zip_file_path = \"/content/lipreading (3).zip\"\n",
        "extract_to = \"/content/dataset\"\n",
        "\n",
        "os.makedirs(extract_to, exist_ok=True)\n",
        "\n",
        "with zipfile.ZipFile(zip_file_path, 'r') as zip_ref:\n",
        "    zip_ref.extractall(extract_to)\n",
        "\n",
        "print(f\"Files extracted to {extract_to}\")"
      ],
      "metadata": {
        "colab": {
          "base_uri": "https://localhost:8080/"
        },
        "id": "2G1xMRRLnCzD",
        "outputId": "3e0e1691-d278-480b-ed8b-460c5ca269ee"
      },
      "execution_count": 37,
      "outputs": [
        {
          "output_type": "stream",
          "name": "stdout",
          "text": [
            "Files extracted to /content/dataset\n"
          ]
        }
      ]
    },
    {
      "cell_type": "code",
      "source": [
        "import numpy as np\n",
        "\n",
        "# Load a .npy file\n",
        "data = np.load('/content/videos/content/av/video_only/data/pretrain/مايكل/اخبارك/1.npy')\n",
        "\n",
        "# Print the loaded data\n",
        "print(data)"
      ],
      "metadata": {
        "colab": {
          "base_uri": "https://localhost:8080/"
        },
        "id": "OZC9i3LFcL62",
        "outputId": "09ce7250-d454-4f8a-9b56-86a84ce944ae"
      },
      "execution_count": null,
      "outputs": [
        {
          "output_type": "stream",
          "name": "stdout",
          "text": [
            "[[0.16915293 0.         0.         ... 0.00325083 0.         1.3520802 ]\n",
            " [0.15657742 0.07740454 0.         ... 0.10639144 0.22115068 0.00289246]\n",
            " [0.08491819 0.05146109 0.         ... 0.0299424  0.21767083 0.00766086]\n",
            " ...\n",
            " [0.08100868 0.16756706 0.         ... 0.07652957 0.48080763 0.00791672]\n",
            " [0.08910439 0.20215307 0.         ... 0.038307   0.57738096 0.01817344]\n",
            " [0.24282628 0.14799811 0.         ... 0.22793114 0.5148199  0.03891844]]\n"
          ]
        }
      ]
    },
    {
      "cell_type": "code",
      "source": [
        "import numpy as np\n",
        "\n",
        "# Load a .npy file\n",
        "data = np.load('/content/lipreading/انا/02.npy')\n",
        "\n",
        "# Print the loaded data\n",
        "print(data.shape)"
      ],
      "metadata": {
        "colab": {
          "base_uri": "https://localhost:8080/"
        },
        "id": "duNX2KquyhB8",
        "outputId": "0e2f0969-a967-49b6-b6a8-017f7aa7511d"
      },
      "execution_count": null,
      "outputs": [
        {
          "output_type": "stream",
          "name": "stdout",
          "text": [
            "(83, 512)\n"
          ]
        }
      ]
    },
    {
      "cell_type": "code",
      "source": [
        "def walk_through_dir(dir_path):\n",
        "\n",
        "  for dirpath, dirnames, filenames in os.walk(dir_path):\n",
        "    print(f\"There are {len(dirnames)} directories and {len(filenames)} word in '{dirpath}'.\")"
      ],
      "metadata": {
        "id": "qAK-prQAzbbc"
      },
      "execution_count": 38,
      "outputs": []
    },
    {
      "cell_type": "code",
      "source": [
        "walk_through_dir('/content/dataset/lipreading/lipreading')"
      ],
      "metadata": {
        "colab": {
          "base_uri": "https://localhost:8080/"
        },
        "id": "cA6gUwImzcuz",
        "outputId": "a89d8917-8148-4354-c6fe-d9c94485cde2"
      },
      "execution_count": 40,
      "outputs": [
        {
          "output_type": "stream",
          "name": "stdout",
          "text": [
            "There are 10 directories and 0 word in '/content/dataset/lipreading/lipreading'.\n",
            "There are 0 directories and 20 word in '/content/dataset/lipreading/lipreading/لا'.\n",
            "There are 0 directories and 20 word in '/content/dataset/lipreading/lipreading/تعب'.\n",
            "There are 0 directories and 20 word in '/content/dataset/lipreading/lipreading/شكرا'.\n",
            "There are 0 directories and 20 word in '/content/dataset/lipreading/lipreading/اكسجين'.\n",
            "There are 0 directories and 20 word in '/content/dataset/lipreading/lipreading/اشعر'.\n",
            "There are 0 directories and 20 word in '/content/dataset/lipreading/lipreading/اكتئاب'.\n",
            "There are 0 directories and 20 word in '/content/dataset/lipreading/lipreading/انا'.\n",
            "There are 0 directories and 20 word in '/content/dataset/lipreading/lipreading/صوت'.\n",
            "There are 0 directories and 20 word in '/content/dataset/lipreading/lipreading/برد'.\n",
            "There are 0 directories and 19 word in '/content/dataset/lipreading/lipreading/اريد'.\n"
          ]
        }
      ]
    },
    {
      "cell_type": "code",
      "source": [
        "import os\n",
        "\n",
        "dir_path = \"/content/lipreading/اخبارك/.ipynb_checkpoints\"\n",
        "\n",
        "if os.path.exists(dir_path) and os.path.isdir(dir_path):\n",
        "    os.rmdir(dir_path)  # Removes only empty directories\n",
        "    print(f\"{dir_path} has been deleted.\")\n",
        "else:\n",
        "    print(f\"{dir_path} is not a valid directory or does not exist.\")"
      ],
      "metadata": {
        "colab": {
          "base_uri": "https://localhost:8080/"
        },
        "id": "G1OkC1ZB11XO",
        "outputId": "2dfb37a3-5016-4766-f42d-77e1e05f8605"
      },
      "execution_count": null,
      "outputs": [
        {
          "output_type": "stream",
          "name": "stdout",
          "text": [
            "/content/lipreading/اخبارك/.ipynb_checkpoints is not a valid directory or does not exist.\n"
          ]
        }
      ]
    },
    {
      "cell_type": "code",
      "source": [
        "import os\n",
        "import numpy as np\n",
        "import torch\n",
        "from sklearn.model_selection import train_test_split\n",
        "from torch.utils.data import Dataset, DataLoader"
      ],
      "metadata": {
        "id": "2IoDrVti17aR"
      },
      "execution_count": 41,
      "outputs": []
    },
    {
      "cell_type": "code",
      "source": [
        "main_dir = \"/content/dataset/lipreading/lipreading\"\n",
        "classes = os.listdir(main_dir)  # List all class folders"
      ],
      "metadata": {
        "id": "V-iZWt5i2SoJ"
      },
      "execution_count": 42,
      "outputs": []
    },
    {
      "cell_type": "code",
      "source": [
        "classes"
      ],
      "metadata": {
        "colab": {
          "base_uri": "https://localhost:8080/"
        },
        "id": "RtYI3hsS2a60",
        "outputId": "1877ceee-15d6-4d2a-d8bc-cdc088d311ef"
      },
      "execution_count": 43,
      "outputs": [
        {
          "output_type": "execute_result",
          "data": {
            "text/plain": [
              "['لا', 'تعب', 'شكرا', 'اكسجين', 'اشعر', 'اكتئاب', 'انا', 'صوت', 'برد', 'اريد']"
            ]
          },
          "metadata": {},
          "execution_count": 43
        }
      ]
    },
    {
      "cell_type": "code",
      "source": [
        "class_to_idx = {class_name: idx for idx, class_name in enumerate(classes)}"
      ],
      "metadata": {
        "id": "tVuB1mYvtjCB"
      },
      "execution_count": 44,
      "outputs": []
    },
    {
      "cell_type": "code",
      "source": [
        "max_shape = None\n",
        "\n",
        "# Step 1: Identify the maximum shape among all .npy files\n",
        "for class_dir in class_to_idx:\n",
        "    class_path = os.path.join(main_dir, class_dir)\n",
        "    if os.path.isdir(class_path):  # Ensure it's a directory\n",
        "        for npy_file in os.listdir(class_path):\n",
        "            if npy_file.endswith('.npy'):\n",
        "                file_path = os.path.join(class_path, npy_file)\n",
        "                data = np.load(file_path)\n",
        "                if max_shape is None:\n",
        "                    max_shape = data.shape\n",
        "                else:\n",
        "                    max_shape = tuple(max(max_shape[dim], data.shape[dim]) for dim in range(len(data.shape)))"
      ],
      "metadata": {
        "id": "Whhy_-SPW68a"
      },
      "execution_count": 45,
      "outputs": []
    },
    {
      "cell_type": "code",
      "source": [
        "# Step 2: Pad files to the maximum shape\n",
        "for class_dir in class_to_idx:\n",
        "    class_path = os.path.join(main_dir, class_dir)\n",
        "    if os.path.isdir(class_path):  # Ensure it's a directory\n",
        "        for npy_file in os.listdir(class_path):\n",
        "            if npy_file.endswith('.npy'):\n",
        "                file_path = os.path.join(class_path, npy_file)\n",
        "                data = np.load(file_path)\n",
        "\n",
        "                # Calculate padding sizes\n",
        "                padding = [(0, max_dim - curr_dim) for curr_dim, max_dim in zip(data.shape, max_shape)]\n",
        "\n",
        "                # Apply padding\n",
        "                padded_data = np.pad(data, pad_width=padding, mode='constant', constant_values=0)\n",
        "\n",
        "                # Save the padded file (overwrite or save to a new location)\n",
        "                np.save(file_path, padded_data)\n",
        "\n",
        "print(\"Padding completed. All files have the shape:\", max_shape)"
      ],
      "metadata": {
        "colab": {
          "base_uri": "https://localhost:8080/"
        },
        "id": "K5qkjxLPXAMW",
        "outputId": "91323002-092c-4fb7-910e-9ea945f8ffee"
      },
      "execution_count": 46,
      "outputs": [
        {
          "output_type": "stream",
          "name": "stdout",
          "text": [
            "Padding completed. All files have the shape: (83, 512)\n"
          ]
        }
      ]
    },
    {
      "cell_type": "markdown",
      "source": [
        "## Custom Data"
      ],
      "metadata": {
        "id": "XhEdztM_2ipl"
      }
    },
    {
      "cell_type": "code",
      "source": [
        "import os\n",
        "import numpy as np\n",
        "from torch.utils.data import Dataset, DataLoader\n",
        "from sklearn.model_selection import train_test_split"
      ],
      "metadata": {
        "id": "Id5LtyUsXeT3"
      },
      "execution_count": 47,
      "outputs": []
    },
    {
      "cell_type": "code",
      "source": [
        "class LipReadingDataset(Dataset):\n",
        "    def __init__(self, file_paths, labels, pad_value=0):\n",
        "        self.file_paths = file_paths\n",
        "        self.labels = labels\n",
        "        self.pad_value = pad_value\n",
        "\n",
        "    def __len__(self):\n",
        "        return len(self.file_paths)\n",
        "\n",
        "    def __getitem__(self, idx):\n",
        "        data = np.load(self.file_paths[idx])\n",
        "        label = self.labels[idx]\n",
        "\n",
        "        # Create padding mask (1 for valid, 0 for padded)\n",
        "        mask = (data != self.pad_value).astype(np.float32)\n",
        "\n",
        "        # Flatten the input to match the model's expected input_size\n",
        "        data = data.flatten()\n",
        "        mask = mask.flatten()\n",
        "\n",
        "        return torch.tensor(data, dtype=torch.float32), torch.tensor(mask, dtype=torch.float32), label"
      ],
      "metadata": {
        "id": "oMrOkENf2oBS"
      },
      "execution_count": 48,
      "outputs": []
    },
    {
      "cell_type": "markdown",
      "source": [
        "## Split Data"
      ],
      "metadata": {
        "id": "Duk3WJz02ptk"
      }
    },
    {
      "cell_type": "code",
      "source": [
        "# Directory containing class folders\n",
        "classes = class_to_idx\n",
        "\n",
        "# Collect file paths and corresponding labels\n",
        "file_paths = []\n",
        "labels = []\n",
        "class_to_idx = {cls_name: idx for idx, cls_name in enumerate(classes)}\n",
        "\n",
        "for class_dir in classes:\n",
        "    class_path = os.path.join(main_dir, class_dir)\n",
        "    if os.path.isdir(class_path):\n",
        "        for npy_file in os.listdir(class_path):\n",
        "            if npy_file.endswith('.npy'):\n",
        "                file_paths.append(os.path.join(class_path, npy_file))\n",
        "                labels.append(class_to_idx[class_dir])\n"
      ],
      "metadata": {
        "id": "XAWUzCsg627C"
      },
      "execution_count": 49,
      "outputs": []
    },
    {
      "cell_type": "markdown",
      "source": [
        "## Dataloaders"
      ],
      "metadata": {
        "id": "pxySyXje3jBH"
      }
    },
    {
      "cell_type": "code",
      "source": [
        "from sklearn.model_selection import train_test_split\n",
        "\n",
        "# Split data into training and testing sets\n",
        "train_paths, test_paths, train_labels, test_labels = train_test_split(\n",
        "    file_paths, labels, test_size=0.2, stratify=labels, random_state=42\n",
        ")"
      ],
      "metadata": {
        "id": "cTljKLlJXmTs"
      },
      "execution_count": 50,
      "outputs": []
    },
    {
      "cell_type": "code",
      "source": [
        "# Create Dataset instances\n",
        "train_dataset = LipReadingDataset(train_paths, train_labels)\n",
        "test_dataset = LipReadingDataset(test_paths, test_labels)"
      ],
      "metadata": {
        "id": "Pac2sbkn7rsq"
      },
      "execution_count": 51,
      "outputs": []
    },
    {
      "cell_type": "code",
      "source": [
        "from torch.utils.data import DataLoader\n",
        "\n",
        "batch_size = 32\n",
        "\n",
        "# Create DataLoaders for training and testing\n",
        "train_loader = DataLoader(train_dataset, batch_size=batch_size, shuffle=True)\n",
        "test_loader = DataLoader(test_dataset, batch_size=batch_size, shuffle=False)\n",
        "\n",
        "print(\"Data preparation complete.\")\n",
        "print(f\"Train size: {len(train_loader.dataset)}\")\n",
        "print(f\"Test size: {len(test_loader.dataset)}\")"
      ],
      "metadata": {
        "colab": {
          "base_uri": "https://localhost:8080/"
        },
        "id": "rXJage5OYJO3",
        "outputId": "5f90ea20-386f-4371-8b92-8a5c60da3318"
      },
      "execution_count": 52,
      "outputs": [
        {
          "output_type": "stream",
          "name": "stdout",
          "text": [
            "Data preparation complete.\n",
            "Train size: 159\n",
            "Test size: 40\n"
          ]
        }
      ]
    },
    {
      "cell_type": "code",
      "source": [
        "import torch\n",
        "import torch.nn as nn\n",
        "import torch.optim as optim\n",
        "\n",
        "import matplotlib.pyplot as plt\n",
        "import numpy as np\n",
        "\n",
        "import torchvision\n",
        "from torchvision.datasets import EMNIST\n",
        "import torchvision.transforms.functional as F\n",
        "import torch.nn.functional as F\n",
        "from torchvision import transforms\n",
        "from torch.utils.data import DataLoader, Subset\n",
        "\n",
        "# Libraries I added\n",
        "\n",
        "from torch.optim import Adam, SGD\n",
        "import torchvision.models as models"
      ],
      "metadata": {
        "id": "n9mfXfoe31co"
      },
      "execution_count": 14,
      "outputs": []
    },
    {
      "cell_type": "code",
      "source": [
        "class nn3Layer(nn.Module):\n",
        "\n",
        "  def __init__(self, input_size):\n",
        "    super(nn3Layer, self).__init__()\n",
        "\n",
        "    self.layer_1 = nn.Linear(input_size, 1024)\n",
        "    self.layer_2 = nn.Linear(1024, 512)\n",
        "    self.layer_3 = nn.Linear(512, 256)\n",
        "    self.layer_4 = nn.Linear(256, 10)\n",
        "\n",
        "    self.hidden_activation = nn.ReLU()\n",
        "\n",
        "  # Forward pass\n",
        "  def forward(self, x):\n",
        "\n",
        "    x = self.hidden_activation(self.layer_1(x))\n",
        "    x = self.hidden_activation(self.layer_2(x))\n",
        "    x = self.hidden_activation(self.layer_3(x))\n",
        "    x = self.layer_4(x)\n",
        "\n",
        "    return x"
      ],
      "metadata": {
        "id": "Vpx2MUHU7u9w"
      },
      "execution_count": 54,
      "outputs": []
    },
    {
      "cell_type": "code",
      "source": [
        "device = \"cuda\" if torch.cuda.is_available() else \"cpu\" # Defining the device\n",
        "\n",
        "model = nn3Layer(83 * 512)\n",
        "\n",
        "loss_fn = nn.CrossEntropyLoss()\n",
        "optimizer = Adam(model.parameters(), lr=1e-4)\n",
        "\n",
        "model.to(device) # Move everything to the device"
      ],
      "metadata": {
        "colab": {
          "base_uri": "https://localhost:8080/"
        },
        "id": "PxJPfbiJ4TiH",
        "outputId": "a4001b50-6156-485f-9709-08c7568c6971"
      },
      "execution_count": 55,
      "outputs": [
        {
          "output_type": "execute_result",
          "data": {
            "text/plain": [
              "nn3Layer(\n",
              "  (layer_1): Linear(in_features=42496, out_features=1024, bias=True)\n",
              "  (layer_2): Linear(in_features=1024, out_features=512, bias=True)\n",
              "  (layer_3): Linear(in_features=512, out_features=256, bias=True)\n",
              "  (layer_4): Linear(in_features=256, out_features=10, bias=True)\n",
              "  (hidden_activation): ReLU()\n",
              ")"
            ]
          },
          "metadata": {},
          "execution_count": 55
        }
      ]
    },
    {
      "cell_type": "code",
      "source": [
        "epoch_no = 50\n",
        "train_losses = []\n",
        "val_losses = []\n",
        "train_accuracies = []\n",
        "val_accuracies = []\n",
        "\n",
        "for epoch in range(epoch_no):\n",
        "    model.train()\n",
        "\n",
        "    epoch_weighted_loss = 0\n",
        "    correct_train = 0  # Initialize for training accuracy\n",
        "\n",
        "    for batch_X, mask, batch_y in train_loader:\n",
        "        batch_X = batch_X.view(-1, 83 * 512).to(device)\n",
        "        batch_y = batch_y.to(device)\n",
        "\n",
        "        batch_y_probs = model(batch_X)\n",
        "\n",
        "        # Calculate the loss\n",
        "        loss = loss_fn(batch_y_probs, batch_y)\n",
        "\n",
        "        mask = mask.to(loss.device)\n",
        "\n",
        "        masked_loss = loss * mask\n",
        "        loss = masked_loss.sum() / mask.sum()\n",
        "\n",
        "        # Reset the gradient\n",
        "        optimizer.zero_grad()\n",
        "\n",
        "        # Loss backward\n",
        "        loss.backward()\n",
        "\n",
        "        # Optimizer step\n",
        "        optimizer.step()\n",
        "\n",
        "        epoch_weighted_loss += len(batch_y) * loss.item()\n",
        "\n",
        "        # Calculate the accuracy\n",
        "        train_batch_y_pred = batch_y_probs.argmax(dim=1)\n",
        "        correct_train += (train_batch_y_pred == batch_y).sum().item()\n",
        "\n",
        "    epoch_loss = epoch_weighted_loss / len(train_loader.dataset)\n",
        "    train_accuracy = correct_train / len(train_loader.dataset)\n",
        "    train_losses.append(epoch_loss)\n",
        "    train_accuracies.append(train_accuracy)\n",
        "\n",
        "    # Validation time\n",
        "    model.eval()\n",
        "    correctly_labelled = 0\n",
        "\n",
        "    with torch.no_grad():\n",
        "        val_epoch_weighted_loss = 0\n",
        "        for val_batch_X, mask, val_batch_y in test_loader:\n",
        "            val_batch_X = val_batch_X.view(-1, 83 * 512).to(device)\n",
        "            val_batch_y = val_batch_y.to(device)\n",
        "\n",
        "            val_batch_y_probs = model(val_batch_X)\n",
        "            loss = loss_fn(val_batch_y_probs, val_batch_y)\n",
        "\n",
        "            val_epoch_weighted_loss += len(val_batch_y) * loss.item()\n",
        "\n",
        "            val_batch_y_pred = val_batch_y_probs.argmax(dim=1)\n",
        "            correctly_labelled += (val_batch_y_pred == val_batch_y).sum().item()\n",
        "\n",
        "        val_epoch_loss = val_epoch_weighted_loss / len(test_loader.dataset)\n",
        "        val_accuracy = correctly_labelled / len(test_loader.dataset)\n",
        "        val_losses.append(val_epoch_loss)\n",
        "        val_accuracies.append(val_accuracy)\n",
        "\n",
        "    print(f'Epoch: {epoch}, train_loss={epoch_loss}, val_loss={val_epoch_loss}. '\n",
        "          f'labelled {correctly_labelled}/{len(test_loader.dataset)} correctly '\n",
        "          f'({correctly_labelled / len(test_loader.dataset) * 100}% accuracy)')\n",
        "\n",
        "print(f'Training complete on device {device}.')"
      ],
      "metadata": {
        "colab": {
          "base_uri": "https://localhost:8080/"
        },
        "id": "0Dr1gA28DgCB",
        "outputId": "87b3c36c-4596-41ef-babf-32dd3a9f3f80"
      },
      "execution_count": 56,
      "outputs": [
        {
          "output_type": "stream",
          "name": "stdout",
          "text": [
            "Epoch: 0, train_loss=2.3138547393510924, val_loss=2.286370372772217. labelled 4/40 correctly (10.0% accuracy)\n",
            "Epoch: 1, train_loss=2.255011650001478, val_loss=2.2573727130889893. labelled 16/40 correctly (40.0% accuracy)\n",
            "Epoch: 2, train_loss=2.1855144440752907, val_loss=2.213999128341675. labelled 7/40 correctly (17.5% accuracy)\n",
            "Epoch: 3, train_loss=2.0830280930741027, val_loss=2.1459084033966063. labelled 18/40 correctly (45.0% accuracy)\n",
            "Epoch: 4, train_loss=1.9716613795022544, val_loss=2.078571844100952. labelled 14/40 correctly (35.0% accuracy)\n",
            "Epoch: 5, train_loss=1.8185132861887134, val_loss=1.9878747463226318. labelled 16/40 correctly (40.0% accuracy)\n",
            "Epoch: 6, train_loss=1.6616161889250174, val_loss=1.8850297451019287. labelled 16/40 correctly (40.0% accuracy)\n",
            "Epoch: 7, train_loss=1.489857110587306, val_loss=1.7924424171447755. labelled 17/40 correctly (42.5% accuracy)\n",
            "Epoch: 8, train_loss=1.3099966446558635, val_loss=1.6811518669128418. labelled 16/40 correctly (40.0% accuracy)\n",
            "Epoch: 9, train_loss=1.1509463194781129, val_loss=1.6174928426742554. labelled 22/40 correctly (55.00000000000001% accuracy)\n",
            "Epoch: 10, train_loss=0.9843909755442877, val_loss=1.5131062507629394. labelled 23/40 correctly (57.49999999999999% accuracy)\n",
            "Epoch: 11, train_loss=0.8393515790783385, val_loss=1.4579193353652955. labelled 22/40 correctly (55.00000000000001% accuracy)\n",
            "Epoch: 12, train_loss=0.7113837014954045, val_loss=1.3747257232666015. labelled 20/40 correctly (50.0% accuracy)\n",
            "Epoch: 13, train_loss=0.5919322558918839, val_loss=1.3045313596725463. labelled 25/40 correctly (62.5% accuracy)\n",
            "Epoch: 14, train_loss=0.499687282919134, val_loss=1.231372332572937. labelled 27/40 correctly (67.5% accuracy)\n",
            "Epoch: 15, train_loss=0.4135722424249229, val_loss=1.2007540225982667. labelled 26/40 correctly (65.0% accuracy)\n",
            "Epoch: 16, train_loss=0.3487392991968671, val_loss=1.11308753490448. labelled 29/40 correctly (72.5% accuracy)\n",
            "Epoch: 17, train_loss=0.29171529149859204, val_loss=1.1329266548156738. labelled 28/40 correctly (70.0% accuracy)\n",
            "Epoch: 18, train_loss=0.23954216283072466, val_loss=1.0645326137542725. labelled 30/40 correctly (75.0% accuracy)\n",
            "Epoch: 19, train_loss=0.20533104681368894, val_loss=1.0388376235961914. labelled 29/40 correctly (72.5% accuracy)\n",
            "Epoch: 20, train_loss=0.16440366067976322, val_loss=1.0269690990447997. labelled 31/40 correctly (77.5% accuracy)\n",
            "Epoch: 21, train_loss=0.14392812306401115, val_loss=1.0113898992538453. labelled 31/40 correctly (77.5% accuracy)\n",
            "Epoch: 22, train_loss=0.12066951056696334, val_loss=0.984933364391327. labelled 32/40 correctly (80.0% accuracy)\n",
            "Epoch: 23, train_loss=0.10705863871851808, val_loss=0.9605856895446777. labelled 30/40 correctly (75.0% accuracy)\n",
            "Epoch: 24, train_loss=0.09620301144303016, val_loss=0.9923806667327881. labelled 31/40 correctly (77.5% accuracy)\n",
            "Epoch: 25, train_loss=0.08515196293592453, val_loss=0.9928009033203125. labelled 30/40 correctly (75.0% accuracy)\n",
            "Epoch: 26, train_loss=0.0730886660375685, val_loss=0.9980302810668945. labelled 32/40 correctly (80.0% accuracy)\n",
            "Epoch: 27, train_loss=0.06361769491209174, val_loss=0.9312264680862427. labelled 30/40 correctly (75.0% accuracy)\n",
            "Epoch: 28, train_loss=0.053788834655622265, val_loss=0.9730069279670716. labelled 31/40 correctly (77.5% accuracy)\n",
            "Epoch: 29, train_loss=0.04653196615524262, val_loss=0.977825379371643. labelled 31/40 correctly (77.5% accuracy)\n",
            "Epoch: 30, train_loss=0.04141732251400468, val_loss=0.9501362681388855. labelled 31/40 correctly (77.5% accuracy)\n",
            "Epoch: 31, train_loss=0.03788315758999414, val_loss=0.9446596741676331. labelled 31/40 correctly (77.5% accuracy)\n",
            "Epoch: 32, train_loss=0.034014698633420395, val_loss=0.946646225452423. labelled 31/40 correctly (77.5% accuracy)\n",
            "Epoch: 33, train_loss=0.030718982969440003, val_loss=0.950132429599762. labelled 31/40 correctly (77.5% accuracy)\n",
            "Epoch: 34, train_loss=0.02865144280049036, val_loss=0.964121651649475. labelled 31/40 correctly (77.5% accuracy)\n",
            "Epoch: 35, train_loss=0.025771000393250452, val_loss=0.9492477178573608. labelled 31/40 correctly (77.5% accuracy)\n",
            "Epoch: 36, train_loss=0.024151928242553706, val_loss=0.9527690052986145. labelled 31/40 correctly (77.5% accuracy)\n",
            "Epoch: 37, train_loss=0.022736549986608373, val_loss=0.9377764105796814. labelled 31/40 correctly (77.5% accuracy)\n",
            "Epoch: 38, train_loss=0.020782644468002348, val_loss=0.9578347682952881. labelled 31/40 correctly (77.5% accuracy)\n",
            "Epoch: 39, train_loss=0.019395686639179975, val_loss=0.966076922416687. labelled 31/40 correctly (77.5% accuracy)\n",
            "Epoch: 40, train_loss=0.018031582599447208, val_loss=0.9501108288764953. labelled 31/40 correctly (77.5% accuracy)\n",
            "Epoch: 41, train_loss=0.016945158898736695, val_loss=0.94403475522995. labelled 31/40 correctly (77.5% accuracy)\n",
            "Epoch: 42, train_loss=0.01584313257521241, val_loss=0.9539296865463257. labelled 31/40 correctly (77.5% accuracy)\n",
            "Epoch: 43, train_loss=0.014949294920050123, val_loss=0.9644968509674072. labelled 32/40 correctly (80.0% accuracy)\n",
            "Epoch: 44, train_loss=0.014344739364518685, val_loss=0.9510074853897095. labelled 31/40 correctly (77.5% accuracy)\n",
            "Epoch: 45, train_loss=0.013354395627506874, val_loss=0.9571946859359741. labelled 31/40 correctly (77.5% accuracy)\n",
            "Epoch: 46, train_loss=0.012610092993427373, val_loss=0.9586087584495544. labelled 31/40 correctly (77.5% accuracy)\n",
            "Epoch: 47, train_loss=0.01193753653938103, val_loss=0.958695113658905. labelled 31/40 correctly (77.5% accuracy)\n",
            "Epoch: 48, train_loss=0.01122445820496892, val_loss=0.9552780508995056. labelled 31/40 correctly (77.5% accuracy)\n",
            "Epoch: 49, train_loss=0.010707183038148115, val_loss=0.9591068625450134. labelled 31/40 correctly (77.5% accuracy)\n",
            "Training complete on device cuda.\n"
          ]
        }
      ]
    },
    {
      "cell_type": "code",
      "source": [
        "import matplotlib.pyplot as plt\n",
        "\n",
        "# Plot training and validation loss\n",
        "plt.figure(figsize=(12, 6))\n",
        "\n",
        "plt.subplot(1, 2, 1)\n",
        "plt.plot(range(epoch_no), train_losses, label='Train Loss')\n",
        "plt.plot(range(epoch_no), val_losses, label='Validation Loss')\n",
        "plt.xlabel('Epochs')\n",
        "plt.ylabel('Loss')\n",
        "plt.title('Training and Validation Loss')\n",
        "plt.legend()\n",
        "\n",
        "# Plot training and validation accuracy\n",
        "plt.subplot(1, 2, 2)\n",
        "plt.plot(range(epoch_no), train_accuracies, label='Train Accuracy')\n",
        "plt.plot(range(epoch_no), val_accuracies, label='Validation Accuracy')\n",
        "plt.xlabel('Epochs')\n",
        "plt.ylabel('Accuracy')\n",
        "plt.title('Training and Validation Accuracy')\n",
        "plt.legend()\n",
        "\n",
        "plt.tight_layout()\n",
        "plt.show()"
      ],
      "metadata": {
        "colab": {
          "base_uri": "https://localhost:8080/",
          "height": 550
        },
        "id": "o8qQ274J5jFC",
        "outputId": "d71e2917-9c80-4482-d4a4-cd157ba1a0c8"
      },
      "execution_count": null,
      "outputs": [
        {
          "output_type": "display_data",
          "data": {
            "text/plain": [
              "<Figure size 1200x600 with 2 Axes>"
            ],
            "image/png": "[encoded data removed]"
          },
          "metadata": {}
        }
      ]
    }
  ]
}
